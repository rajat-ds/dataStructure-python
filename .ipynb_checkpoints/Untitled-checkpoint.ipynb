{
 "cells": [
  {
   "cell_type": "markdown",
   "metadata": {},
   "source": [
    "**Data Structures\n",
    "\n",
    "Data Structures are the programmatic way of storing data so that data can be used efficiently.\n",
    "\n",
    "**Why to Learn Data Structure and Algorithms?\n",
    "\n",
    "As application are getting complex and data rich,there are three common problems which a application phases now days :\n",
    "\n",
    "1.**Data Search** :Consider an inventory of 1 million(10^6) items of a store. If the application is to search an item, it has to\n",
    "\n",
    "search an item in 1 million(10^6) items every time slowing down the search. As data grows, search will become slower.\n",
    "\n",
    "2.**Processor speed** :Processor speed although being very high, falls limited if the data grows to billion records\n",
    "\n",
    "3.**Multiple requests** : As thousands of users can search data simultaneously on a web server, even the fast server fails while\n",
    "\n",
    "searching the data."
   ]
  }
 ],
 "metadata": {
  "kernelspec": {
   "display_name": "Python [Anaconda3]",
   "language": "python",
   "name": "Python [Anaconda3]"
  },
  "language_info": {
   "codemirror_mode": {
    "name": "ipython",
    "version": 3
   },
   "file_extension": ".py",
   "mimetype": "text/x-python",
   "name": "python",
   "nbconvert_exporter": "python",
   "pygments_lexer": "ipython3",
   "version": "3.5.6"
  }
 },
 "nbformat": 4,
 "nbformat_minor": 0
}

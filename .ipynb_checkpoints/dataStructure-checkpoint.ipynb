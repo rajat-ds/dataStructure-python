{
 "cells": [
  {
   "cell_type": "markdown",
   "metadata": {},
   "source": [
    "**Data Structures**\n",
    "\n",
    "Data Structures are the programmatic way of storing data so that data can be used efficiently.\n",
    "\n",
    "**Why to Learn Data Structure and Algorithms?**\n",
    "\n",
    "As application are getting complex and data rich,there are three common problems which a application come across now days :\n",
    "\n",
    "1.**Data Search** :Consider an inventory of 1 million(10^6) items of a store. If the application is to search an item, it has to\n",
    "\n",
    "search an item in 1 million(10^6) items every time slowing down the search. As data grows, search will become slower.\n",
    "\n",
    "2.**Processor speed** :Processor speed although being very high, falls limited if the data grows to billion records\n",
    "\n",
    "3.**Multiple requests** : As thousands of users can search data simultaneously on a web server, even the fast server fails while\n",
    "\n",
    "searching the data.\n",
    "\n",
    "To solve the above-mentioned problems, data structures come to rescue. Data can be organized in a data structure in such a way\n",
    "\n",
    "that all items may not be required to be searched, and the required data can be searched almost instantly.\n"
   ]
  },
  {
   "cell_type": "markdown",
   "metadata": {},
   "source": [
    "Data structures, depending upon their organization are mainly classified into two types:\n",
    "\n",
    "**Linear Data Structures**\n",
    "\n",
    "Elements are accessed in 'Linear'/ Sequential order but it is not compubory to store all elements sequentially. Examples: Linked Lists, Stacks alld Queues.\n",
    "\n",
    "**Non-linear Data Structures:**\n",
    "\n",
    "Elements of this data structure are stored /accessed in a non-linear order. Examples: Trees and graphs."
   ]
  },
  {
   "cell_type": "markdown",
   "metadata": {},
   "source": [
    "**Abstract Data Type (ADT)**\n",
    "\n",
    "Abstract Data Type(ADT) is a data type, where only behavior is defined but not implementation.\n",
    "\n",
    "A data type can be considered abstract when it is defined in terms of operations on it, and its implementation is hidden (so that we can always replace one implementation with another for, e.g., efficiency reasons, and this will not interfere with anything in the program).\n",
    "\n",
    "An abstract data type or ADT (sometimes called an abstract data type) is a mathematical model of a data structure. It describes a container which holds a finite number of objects where the objects may be associated through a given binary relationship.\n",
    "\n",
    "Commonly used ADTs include: Linked Lists, Stacks, Queues, Priority Queues, Binary Trees, Dic tionaries, Disjoint Sets (Union a nd Find), Hash Tables, Grap hs, and many othe rs."
   ]
  },
  {
   "cell_type": "markdown",
   "metadata": {},
   "source": [
    "**Recursion**\n",
    "\n",
    "Any function which calls itself is called recursive. A recursive method solves a problem by calling a copy of itself to work on a smaller problem. This is called the recursion step. The recursion step can result in many more such recursive calls.\n",
    "\n",
    "It is important to ensure that the recursion terminates. Each time the function calls itself with a slightly simpler version of the original problem. The sequence of smaller problems must eventually converge on the base case."
   ]
  },
  {
   "cell_type": "code",
   "execution_count": null,
   "metadata": {
    "collapsed": true
   },
   "outputs": [],
   "source": []
  }
 ],
 "metadata": {
  "anaconda-cloud": {},
  "kernelspec": {
   "display_name": "Python [Anaconda3]",
   "language": "python",
   "name": "Python [Anaconda3]"
  },
  "language_info": {
   "codemirror_mode": {
    "name": "ipython",
    "version": 3
   },
   "file_extension": ".py",
   "mimetype": "text/x-python",
   "name": "python",
   "nbconvert_exporter": "python",
   "pygments_lexer": "ipython3",
   "version": "3.5.6"
  }
 },
 "nbformat": 4,
 "nbformat_minor": 0
}

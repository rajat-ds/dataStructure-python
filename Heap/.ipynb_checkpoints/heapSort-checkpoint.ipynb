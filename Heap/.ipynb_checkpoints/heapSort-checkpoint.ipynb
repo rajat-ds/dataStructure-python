{
 "cells": [
  {
   "cell_type": "code",
   "execution_count": 1,
   "metadata": {
    "collapsed": false
   },
   "outputs": [
    {
     "name": "stdout",
     "output_type": "stream",
     "text": [
      "Sorted Array: [2, 2, 3, 4, 5, 12]\n"
     ]
    }
   ],
   "source": [
    "#  Approach:\n",
    "#  Heap sort happens in two phases. In the first phase, the array\n",
    "#  is transformed into a heap. A heap is a binary tree where\n",
    "#  1) each node is greater than each of its children\n",
    "#  2) the tree is perfectly balanced\n",
    "#  3) all leaves are in the leftmost position available.\n",
    "#  In phase two the heap is continuously reduced to a sorted array:\n",
    "#  1) while the heap is not empty\n",
    "#  - remove the top of the head into an array\n",
    "#  - fix the heap.\n",
    "\n",
    "#  Time Complexity of Solution:\n",
    "#  Best O(nlog(n)); Average O(nlog(n)); Worst O(nlog(n)).\n",
    "\n",
    "def HeapSort(alist):\n",
    "    heapify(alist)              # create the heap\n",
    "    end = len(alist) - 1\n",
    "    while end > 0:\n",
    "        alist[end], alist[0] = alist[0], alist[end]\n",
    "        shiftDown(alist, 0, end - 1)\n",
    "        end -= 1\n",
    "\n",
    "def heapify(alist):\n",
    "    ''' This function helps to maintain the heap property '''\n",
    "    # start = (len(alist) - 2) // 2         (faster execution)\n",
    "    start = len(alist) // 2\n",
    "    while start >= 0:\n",
    "        shiftDown(alist, start, len(alist) - 1)\n",
    "        start -= 1\n",
    "\n",
    "def shiftDown(alist, start, end):\n",
    "    root = start\n",
    "    while root * 2 + 1 <= end:\n",
    "        child = root * 2 + 1\n",
    "        # right child exists and is greater than left child\n",
    "        if child + 1 <= end and alist[child] < alist[child + 1]:\n",
    "            child += 1\n",
    "        # if child is greater than root(parent), then swap their positions\n",
    "        if child <= end and alist[root] < alist[child]:\n",
    "            alist[root], alist[child] = alist[child], alist[root]\n",
    "            root = child\n",
    "        else:\n",
    "            return\n",
    "\n",
    "if __name__ == '__main__':\n",
    "    alist = [12, 2, 4, 5, 2, 3]\n",
    "    HeapSort(alist)\n",
    "    print('Sorted Array:',alist)"
   ]
  },
  {
   "cell_type": "code",
   "execution_count": null,
   "metadata": {
    "collapsed": true
   },
   "outputs": [],
   "source": []
  }
 ],
 "metadata": {
  "anaconda-cloud": {},
  "kernelspec": {
   "display_name": "Python [Root]",
   "language": "python",
   "name": "Python [Root]"
  },
  "language_info": {
   "codemirror_mode": {
    "name": "ipython",
    "version": 3
   },
   "file_extension": ".py",
   "mimetype": "text/x-python",
   "name": "python",
   "nbconvert_exporter": "python",
   "pygments_lexer": "ipython3",
   "version": "3.5.6"
  }
 },
 "nbformat": 4,
 "nbformat_minor": 0
}

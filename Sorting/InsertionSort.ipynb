{
 "cells": [
  {
   "cell_type": "markdown",
   "metadata": {},
   "source": [
    "## Insertion Sort\n",
    "\n",
    "Insertion sort is a simple sorting algorithm that works similar to the way you sort playing cards in your hands. The array is virtually split into a sorted and an unsorted part. Values from the unsorted part are picked and placed at the correct position in the sorted part.\n",
    "\n",
    "### Algorithm\n",
    "\n",
    "* To sort an array of size n in ascending order:\n",
    "   * Iterate from arr[1] to arr[n] over the array\n",
    "   *  Compare the current element (key) to its predecessor.\n",
    "   * If the key element is smaller than its predecessor, compare it to the elements before.\n",
    "   * Move the greater elements one position up to make space for the swapped element.\n",
    "   \n",
    "### Example\n",
    "\n",
    "* 12, 11, 13, 5, 6\n",
    "* Let us loop for i = 1 (second element of the array) to 4 (last element of the array)\n",
    "* i = 1. Since 11 is smaller than 12, move 12 and insert 11 before 12\n",
    "* 11, 12, 13, 5, 6\n",
    "* i = 2. 13 will remain at its position as all elements in A[0..I-1] are smaller than 13\n",
    "* 11, 12, 13, 5, 6\n",
    "* i = 3. 5 will move to the beginning and all other elements from 11 to 13 will move one position ahead of their current position.\n",
    "* 5, 11, 12, 13, 6\n",
    "* i = 4. 6 will move to position after 5, and elements from 11 to 13 will move one position ahead of their current position.\n",
    "* 5, 6, 11, 12, 13"
   ]
  },
  {
   "cell_type": "code",
   "execution_count": 13,
   "metadata": {
    "collapsed": true
   },
   "outputs": [],
   "source": [
    "def insertion_sort(array):\n",
    "    global iterations\n",
    "    iterations = 0\n",
    "    for i in range(1, len(array)):\n",
    "        current_value = array[i]\n",
    "        for j in range(i - 1, -1, -1):\n",
    "            iterations += 1\n",
    "            if array[j] > current_value:\n",
    "                array[j], array[j + 1] = array[j + 1], array[j] # swap\n",
    "            else:\n",
    "                array[j + 1] = current_value\n",
    "                break"
   ]
  },
  {
   "cell_type": "markdown",
   "metadata": {},
   "source": [
    "### Time Complexity\n",
    "* Best Case: O(n)\n",
    "* Average Case: O(n * n)\n",
    "* Worst Case: O(n * n)\n",
    "\n",
    "### Code for executing and seeing the difference in time complexities\n",
    "\n",
    "## Best Case Performance:"
   ]
  },
  {
   "cell_type": "code",
   "execution_count": 14,
   "metadata": {
    "collapsed": false
   },
   "outputs": [
    {
     "name": "stdout",
     "output_type": "stream",
     "text": [
      "[1, 2, 3, 4, 5, 6, 7, 8, 9, 10, 11, 12, 13, 14, 15, 16, 17, 18, 19]\n",
      "18\n"
     ]
    }
   ],
   "source": [
    "\n",
    "# elements are already sorted\n",
    "array = [i for i in range(1, 20)]\n",
    "\n",
    "insertion_sort(array)\n",
    "# 20 ALREADY sorted elements need 18 iterations approx = n\n",
    "print(array)\n",
    "print(iterations)"
   ]
  },
  {
   "cell_type": "markdown",
   "metadata": {},
   "source": [
    "## Average Case Performance:"
   ]
  },
  {
   "cell_type": "code",
   "execution_count": 15,
   "metadata": {
    "collapsed": false
   },
   "outputs": [
    {
     "name": "stdout",
     "output_type": "stream",
     "text": [
      "[1, 2, 3, 4, 5, 6, 7, 8, 9, 10, 11, 12, 13, 14, 15, 16, 17, 18, 19]\n",
      "123\n"
     ]
    }
   ],
   "source": [
    "import random\n",
    "# elements are randomly shuffled\n",
    "array = [i for i in range(1, 20)]\n",
    "random.shuffle(array)\n",
    "\n",
    "insertion_sort(array)\n",
    "# 20 shuffled elements need 324 iterations approx = n * n\n",
    "print(array)\n",
    "print(iterations)"
   ]
  },
  {
   "cell_type": "markdown",
   "metadata": {},
   "source": [
    "##  Worst Case Performance"
   ]
  },
  {
   "cell_type": "code",
   "execution_count": 16,
   "metadata": {
    "collapsed": false
   },
   "outputs": [
    {
     "name": "stdout",
     "output_type": "stream",
     "text": [
      "[1, 2, 3, 4, 5, 6, 7, 8, 9, 10, 11, 12, 13, 14, 15, 16, 17, 18, 19]\n",
      "171\n"
     ]
    }
   ],
   "source": [
    "# elements are reverse sorted\n",
    "array = [i for i in range(1, 20)]\n",
    "# reversing the array\n",
    "array = array[::-1]\n",
    "\n",
    "insertion_sort(array)\n",
    "# 20 REVERSE sorted elements need 324 iterations approx = n * n\n",
    "\n",
    "print(array)\n",
    "print(iterations)"
   ]
  },
  {
   "cell_type": "markdown",
   "metadata": {},
   "source": [
    "## Note\n",
    "More efficient that other sorts when N is comparatively smaller, say < 30."
   ]
  },
  {
   "cell_type": "code",
   "execution_count": null,
   "metadata": {
    "collapsed": true
   },
   "outputs": [],
   "source": []
  }
 ],
 "metadata": {
  "anaconda-cloud": {},
  "kernelspec": {
   "display_name": "Python [Root]",
   "language": "python",
   "name": "Python [Root]"
  },
  "language_info": {
   "codemirror_mode": {
    "name": "ipython",
    "version": 3
   },
   "file_extension": ".py",
   "mimetype": "text/x-python",
   "name": "python",
   "nbconvert_exporter": "python",
   "pygments_lexer": "ipython3",
   "version": "3.5.6"
  }
 },
 "nbformat": 4,
 "nbformat_minor": 0
}

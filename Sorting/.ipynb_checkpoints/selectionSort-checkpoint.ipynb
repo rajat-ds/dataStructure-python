{
 "cells": [
  {
   "cell_type": "markdown",
   "metadata": {},
   "source": [
    "## Selection Sort\n",
    "The selection sort algorithm sorts an array by repeatedly finding the minimum element (considering ascending order) from unsorted part and putting it at the beginning. The algorithm maintains two subarrays in a given array.\n",
    "* The subarray which is already sorted.\n",
    "* Remaining subarray which is unsorted.\n",
    "* In every iteration of selection sort, the minimum element (considering ascending order) from the unsorted subarray is picked and moved to the sorted subarray"
   ]
  },
  {
   "cell_type": "code",
   "execution_count": 1,
   "metadata": {
    "collapsed": true
   },
   "outputs": [],
   "source": [
    "def selection_sort(array):\n",
    "    global iterations\n",
    "    iterations = 0\n",
    "    for i in range(len(array)):\n",
    "        minimum_index = i\n",
    "        for j in range(i + 1, len(array)):\n",
    "            iterations += 1\n",
    "            if array[minimum_index] > array[j]:\n",
    "                minimum_index = j\n",
    "        \n",
    "        # Swap the found minimum element with \n",
    "        # the first element\n",
    "        if minimum_index != i:\n",
    "            array[i], array[minimum_index] = array[minimum_index], array[i]"
   ]
  },
  {
   "cell_type": "markdown",
   "metadata": {},
   "source": [
    "### Time Complexity :\n",
    "\n",
    "* Best Case: O(n * n)\n",
    "* Average Case: O(n * n)\n",
    "* Worst Case: O(n * n)\n",
    "\n",
    "### Code for executing and seeing the difference in time complexities\n",
    "\n",
    "### Best Case Performance"
   ]
  },
  {
   "cell_type": "code",
   "execution_count": 2,
   "metadata": {
    "collapsed": false
   },
   "outputs": [
    {
     "name": "stdout",
     "output_type": "stream",
     "text": [
      "[0, 1, 2, 3, 4, 5, 6, 7, 8, 9, 10, 11, 12, 13, 14, 15, 16, 17, 18, 19]\n",
      "190\n"
     ]
    }
   ],
   "source": [
    "# When array is already sorted\n",
    "array = [i for i in range(20)]\n",
    "selection_sort(array)\n",
    "\n",
    "print(array)\n",
    "print(iterations)"
   ]
  },
  {
   "cell_type": "markdown",
   "metadata": {},
   "source": [
    "### Average Case Performance"
   ]
  },
  {
   "cell_type": "code",
   "execution_count": 3,
   "metadata": {
    "collapsed": false
   },
   "outputs": [
    {
     "name": "stdout",
     "output_type": "stream",
     "text": [
      "[0, 1, 2, 3, 4, 5, 6, 7, 8, 9, 10, 11, 12, 13, 14, 15, 16, 17, 18, 19]\n",
      "190\n"
     ]
    }
   ],
   "source": [
    "\n",
    "# when array is shuffled\n",
    "import random\n",
    "array = [i for i in range(20)]\n",
    "random.shuffle(array)\n",
    "\n",
    "selection_sort(array)\n",
    "\n",
    "print(array)\n",
    "print(iterations)"
   ]
  },
  {
   "cell_type": "markdown",
   "metadata": {},
   "source": [
    "### Worst Case Performance"
   ]
  },
  {
   "cell_type": "code",
   "execution_count": 4,
   "metadata": {
    "collapsed": false
   },
   "outputs": [
    {
     "name": "stdout",
     "output_type": "stream",
     "text": [
      "[0, 1, 2, 3, 4, 5, 6, 7, 8, 9, 10, 11, 12, 13, 14, 15, 16, 17, 18, 19]\n",
      "190\n"
     ]
    }
   ],
   "source": [
    "# when array is reverse sorted\n",
    "array = [i for i in range(20)]\n",
    "array = array[::-1]\n",
    "\n",
    "selection_sort(array)\n",
    "print(array)\n",
    "print(iterations)"
   ]
  },
  {
   "cell_type": "code",
   "execution_count": null,
   "metadata": {
    "collapsed": true
   },
   "outputs": [],
   "source": []
  }
 ],
 "metadata": {
  "kernelspec": {
   "display_name": "Python [Root]",
   "language": "python",
   "name": "Python [Root]"
  },
  "language_info": {
   "codemirror_mode": {
    "name": "ipython",
    "version": 3
   },
   "file_extension": ".py",
   "mimetype": "text/x-python",
   "name": "python",
   "nbconvert_exporter": "python",
   "pygments_lexer": "ipython3",
   "version": "3.5.6"
  }
 },
 "nbformat": 4,
 "nbformat_minor": 0
}

{
 "cells": [
  {
   "cell_type": "code",
   "execution_count": 10,
   "metadata": {
    "collapsed": false
   },
   "outputs": [
    {
     "name": "stdout",
     "output_type": "stream",
     "text": [
      "Array before Reversing: array('i', [10, 3, 11, 1, 2])\n",
      "Array after Reversing: array('i', [2, 1, 11, 3, 10])\n"
     ]
    }
   ],
   "source": [
    "import array\n",
    "\n",
    "def  reversingAnArray(start, end, myArray):\n",
    "    while(start < end):\n",
    "        myArray[start], myArray[end - 1] = myArray[end - 1], myArray[start]\n",
    "        start += 1\n",
    "        end -= 1\n",
    "\n",
    "if __name__ == '__main__':\n",
    "    myArray = array.array('i',[10,11])\n",
    "    myArray.insert(2, 2)\n",
    "    myArray.insert(1, 3)\n",
    "    myArray.insert(3, 1)\n",
    "    print('Array before Reversing:',myArray)\n",
    "    reversingAnArray(0, len(myArray), myArray)\n",
    "    print('Array after Reversing:',myArray)"
   ]
  },
  {
   "cell_type": "code",
   "execution_count": 23,
   "metadata": {
    "collapsed": false
   },
   "outputs": [
    {
     "name": "stdout",
     "output_type": "stream",
     "text": [
      "Before Rotation: array('i', [0, 1, 2, 3, 4, 5, 6, 7, 8, 9, 1, 2, 3, 4, 5, 6, 7, 8, 9, 10])\n",
      "After Rotation: array('i', [3, 4, 5, 6, 7, 8, 9, 1, 2, 3, 4, 5, 6, 7, 8, 9, 10, 0, 1, 2])\n"
     ]
    }
   ],
   "source": [
    "import array\n",
    "\n",
    "def rotation(rotateBy, myArray):\n",
    "    for i in range(0, rotateBy):\n",
    "        rotateOne(myArray)\n",
    "    return myArray\n",
    "\n",
    "def rotateOne(myArray):\n",
    "    for i in range(len(myArray) - 1):\n",
    "        myArray[i], myArray[i + 1] = myArray[i + 1], myArray[i]\n",
    "\n",
    "\n",
    "if __name__ == '__main__':\n",
    "    myArray = array.array('i',[1,2,3,4,5,6,7,8,9,10])\n",
    "    for i in range(len(myArray)):\n",
    "        myArray.insert(i, i)\n",
    "    print('Before Rotation:',myArray)\n",
    "    print('After Rotation:',rotation(3, myArray))\n"
   ]
  },
  {
   "cell_type": "code",
   "execution_count": null,
   "metadata": {
    "collapsed": true
   },
   "outputs": [],
   "source": []
  },
  {
   "cell_type": "code",
   "execution_count": null,
   "metadata": {
    "collapsed": true
   },
   "outputs": [],
   "source": []
  }
 ],
 "metadata": {
  "anaconda-cloud": {},
  "kernelspec": {
   "display_name": "Python [Anaconda3]",
   "language": "python",
   "name": "Python [Anaconda3]"
  },
  "language_info": {
   "codemirror_mode": {
    "name": "ipython",
    "version": 3
   },
   "file_extension": ".py",
   "mimetype": "text/x-python",
   "name": "python",
   "nbconvert_exporter": "python",
   "pygments_lexer": "ipython3",
   "version": "3.5.6"
  }
 },
 "nbformat": 4,
 "nbformat_minor": 0
}

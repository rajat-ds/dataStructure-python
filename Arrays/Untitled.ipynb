{
 "cells": [
  {
   "cell_type": "code",
   "execution_count": 10,
   "metadata": {
    "collapsed": false
   },
   "outputs": [
    {
     "name": "stdout",
     "output_type": "stream",
     "text": [
      "Array before Reversing: array('i', [10, 3, 11, 1, 2])\n",
      "Array after Reversing: array('i', [2, 1, 11, 3, 10])\n"
     ]
    }
   ],
   "source": [
    "import array\n",
    "\n",
    "def  reversingAnArray(start, end, myArray):\n",
    "    while(start < end):\n",
    "        myArray[start], myArray[end - 1] = myArray[end - 1], myArray[start]\n",
    "        start += 1\n",
    "        end -= 1\n",
    "\n",
    "if __name__ == '__main__':\n",
    "    myArray = array.array('i',[10,11])\n",
    "    myArray.insert(2, 2)\n",
    "    myArray.insert(1, 3)\n",
    "    myArray.insert(3, 1)\n",
    "    print('Array before Reversing:',myArray)\n",
    "    reversingAnArray(0, len(myArray), myArray)\n",
    "    print('Array after Reversing:',myArray)"
   ]
  },
  {
   "cell_type": "code",
   "execution_count": 23,
   "metadata": {
    "collapsed": false
   },
   "outputs": [
    {
     "name": "stdout",
     "output_type": "stream",
     "text": [
      "Before Rotation: array('i', [0, 1, 2, 3, 4, 5, 6, 7, 8, 9, 1, 2, 3, 4, 5, 6, 7, 8, 9, 10])\n",
      "After Rotation: array('i', [3, 4, 5, 6, 7, 8, 9, 1, 2, 3, 4, 5, 6, 7, 8, 9, 10, 0, 1, 2])\n"
     ]
    }
   ],
   "source": [
    "\n",
    "\n",
    "def rotation(rotateBy, myArray):\n",
    "    for i in range(0, rotateBy):\n",
    "        rotateOne(myArray)\n",
    "    return myArray\n",
    "\n",
    "def rotateOne(myArray):\n",
    "    for i in range(len(myArray) - 1):\n",
    "        myArray[i], myArray[i + 1] = myArray[i + 1], myArray[i]\n",
    "\n",
    "\n",
    "if __name__ == '__main__':\n",
    "    myArray = array.array('i',[1,2,3,4,5,6,7,8,9,10])\n",
    "    for i in range(len(myArray)):\n",
    "        myArray.insert(i, i)\n",
    "    print('Before Rotation:',myArray)\n",
    "    print('After Rotation:',rotation(3, myArray))\n"
   ]
  },
  {
   "cell_type": "code",
   "execution_count": 24,
   "metadata": {
    "collapsed": false
   },
   "outputs": [
    {
     "name": "stdout",
     "output_type": "stream",
     "text": [
      "Original Array: array('i', [1, 2, 3, 0, 5, 6, 7, 8, 9, 10])\n",
      "Missing Element: 4\n"
     ]
    }
   ],
   "source": [
    "\n",
    "def findMissing(myArray, n):\n",
    "    n = n - 1\n",
    "    totalSum = (n * (n + 1)) // 2\n",
    "    for i in range(0, n):\n",
    "        totalSum -= myArray[i]\n",
    "\n",
    "    return totalSum\n",
    "\n",
    "if __name__ == '__main__':\n",
    "    myArray =  array.array('i',[1,2,3,0,5,6,7,8,9,10])\n",
    " \n",
    "    print('Original Array:',myArray)\n",
    "    print('Missing Element:', findMissing(myArray, len(myArray)))"
   ]
  },
  {
   "cell_type": "code",
   "execution_count": 27,
   "metadata": {
    "collapsed": false
   },
   "outputs": [
    {
     "name": "stdout",
     "output_type": "stream",
     "text": [
      "4\n"
     ]
    }
   ],
   "source": [
    "# Given an array of positive integers. All numbers occur even number of times except one\n",
    "# number which occurs odd number of times. Find the number in O(n) time & constant space.\n",
    "\n",
    "# XOR of all elements gives us odd occurring element. Please note that XOR of two elements\n",
    "# is 0 if both elements are same and XOR of a number x with 0 is x.\n",
    "\n",
    "# NOTE: This will only work when there is only one number with odd number of occurences.\n",
    "\n",
    "def printOddOccurences(array):\n",
    "    odd = 0\n",
    "\n",
    "    for element in array:\n",
    "        # XOR with the odd number\n",
    "        odd = odd ^ element\n",
    "\n",
    "    return odd\n",
    "\n",
    "if __name__ == '__main__':\n",
    "    myArray =array.array('i', [3, 4, 1, 2, 4, 1, 2, 5, 6, 4, 6, 5, 3])\n",
    "    print(printOddOccurences(myArray)) "
   ]
  },
  {
   "cell_type": "code",
   "execution_count": 31,
   "metadata": {
    "collapsed": false
   },
   "outputs": [
    {
     "name": "stdout",
     "output_type": "stream",
     "text": [
      "Array has elements: 30 and 50 with sum: 80\n"
     ]
    }
   ],
   "source": [
    "# Given an array A[] of n numbers and another number x, determines whether or not there exist two elements\n",
    "# in S whose sum is exactly x.aa\n",
    "\n",
    "def checkSum(array, sum):\n",
    "    # sort the array in ascending order\n",
    "    # new changes : made use of Python's inbuilt Merge Sort method\n",
    "    # Reason for such change : Worst case Time complexity of Quick Sort is O(n^2) whereas Worst Case Complexity of Merge Sort is O(nlog(n))\n",
    "    array = sorted(array)\n",
    "\n",
    "    leftIndex = 0\n",
    "    rightIndex = len(array) - 1\n",
    "\n",
    "    while leftIndex < rightIndex:\n",
    "        if (array[leftIndex] + array[rightIndex] ==  sum):\n",
    "            return array[leftIndex], array[rightIndex]\n",
    "        elif(array[leftIndex] + array[rightIndex] < sum):\n",
    "            leftIndex += 1\n",
    "        else:\n",
    "            rightIndex += 1\n",
    "\n",
    "    return False, False\n",
    "\n",
    "\n",
    "if __name__ == '__main__':\n",
    "    myArray = array.array('i',[10, 20, 30, 40, 50])\n",
    "    sum = 80\n",
    "\n",
    "    number1, number2 = checkSum(myArray, sum)\n",
    "    if(number1 and number2):\n",
    "        print('Array has elements:', number1, 'and', number2, 'with sum:', sum)\n",
    "    else:\n",
    "        print('Array doesn\\'t have elements with the sum:', sum)"
   ]
  },
  {
   "cell_type": "code",
   "execution_count": null,
   "metadata": {
    "collapsed": true
   },
   "outputs": [],
   "source": []
  }
 ],
 "metadata": {
  "anaconda-cloud": {},
  "kernelspec": {
   "display_name": "Python [Anaconda3]",
   "language": "python",
   "name": "Python [Anaconda3]"
  },
  "language_info": {
   "codemirror_mode": {
    "name": "ipython",
    "version": 3
   },
   "file_extension": ".py",
   "mimetype": "text/x-python",
   "name": "python",
   "nbconvert_exporter": "python",
   "pygments_lexer": "ipython3",
   "version": "3.5.6"
  }
 },
 "nbformat": 4,
 "nbformat_minor": 0
}

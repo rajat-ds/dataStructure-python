{
 "cells": [
  {
   "cell_type": "markdown",
   "metadata": {},
   "source": [
    "## Dequeue\n",
    "\n",
    "Deque or Double Ended Queue is a generalized version of Queue data structure that allows insert and delete at both ends.\n",
    "\n",
    "### Operations on Deque: \n",
    "\n",
    "Mainly the following four basic operations are performed on queue:\n",
    "* insertFront(): Adds an item at the front of Deque.\n",
    "* insertLast(): Adds an item at the rear of Deque.\n",
    "* deleteFront(): Deletes an item from front of Deque.\n",
    "* deleteLast(): Deletes an item from rear of Deque.\n",
    "\n",
    "#### In addition to above operations, following operations are also supported\n",
    "\n",
    "* getFront(): Gets the front item from queue.\n",
    "* getRear(): Gets the last item from queue.\n",
    "* isEmpty(): Checks whether Deque is empty or not.\n",
    "* isFull(): Checks whether Deque is full or not.\n",
    "\n",
    "### Application :\n",
    "\n",
    "* Since Deque supports both stack and queue operations, it can be used as both.\n",
    "* The Deque data structure supports clockwise and anticlockwise rotations in O(1) time which can be useful in certain applications.\n",
    "* Also, the problems where elements need to be removed and or added both ends can be efficiently solved using Deque\n",
    "* For example see Maximum of all subarrays of size k problem., 0-1 BFS and Find the first circular tour that visits all petrol pumps.\n",
    "\n",
    "## Implementation\n"
   ]
  },
  {
   "cell_type": "code",
   "execution_count": 1,
   "metadata": {
    "collapsed": false
   },
   "outputs": [
    {
     "name": "stdout",
     "output_type": "stream",
     "text": [
      "10 2 1 3\n",
      "2 1 3\n",
      "2 1\n"
     ]
    }
   ],
   "source": [
    "class Deque(object):\n",
    "    def __init__(self, limit = 10):\n",
    "        self.queue = []\n",
    "        self.limit = limit\n",
    "\n",
    "    def __str__(self):\n",
    "        return ' '.join([str(i) for i in self.queue])\n",
    "\n",
    "    # check if queue is empty\n",
    "    def isEmpty(self):\n",
    "        return len(self.queue) <= 0\n",
    "\n",
    "    # check if queue is full\n",
    "    def isFull(self):\n",
    "        return len(self.queue) >= self.limit\n",
    "\n",
    "    # for inserting at rear\n",
    "    def insertRear(self, data):\n",
    "        if self.isFull():\n",
    "            return\n",
    "        else:\n",
    "            self.queue.insert(0, data)\n",
    "\n",
    "    # for inserting at front end\n",
    "    def insertFront(self, data):\n",
    "        if self.isFull():\n",
    "            return\n",
    "        else:\n",
    "            self.queue.append(data)\n",
    "\n",
    "    # deleting from rear end\n",
    "    def deleteRear(self):\n",
    "        if self.isEmpty():\n",
    "            return\n",
    "        else:\n",
    "            return self.queue.pop(0)\n",
    "\n",
    "    # deleting from front end\n",
    "    def deleteFront(self):\n",
    "        if self.isFull():\n",
    "            return\n",
    "        else:\n",
    "            return self.queue.pop()\n",
    "\n",
    "if __name__ == '__main__':\n",
    "    myDeque = Deque()\n",
    "    myDeque.insertFront(1)    # 1\n",
    "    myDeque.insertRear(2)     # 2 1\n",
    "    myDeque.insertFront(3)    # 2 1 3\n",
    "    myDeque.insertRear(10)    #10 2 1 3\n",
    "    print(myDeque)\n",
    "    myDeque.deleteRear()      # 2 1 3\n",
    "    print(myDeque)\n",
    "    myDeque.deleteFront()     # 2 1\n",
    "    print(myDeque)"
   ]
  },
  {
   "cell_type": "code",
   "execution_count": null,
   "metadata": {
    "collapsed": true
   },
   "outputs": [],
   "source": []
  }
 ],
 "metadata": {
  "anaconda-cloud": {},
  "kernelspec": {
   "display_name": "Python [Root]",
   "language": "python",
   "name": "Python [Root]"
  },
  "language_info": {
   "codemirror_mode": {
    "name": "ipython",
    "version": 3
   },
   "file_extension": ".py",
   "mimetype": "text/x-python",
   "name": "python",
   "nbconvert_exporter": "python",
   "pygments_lexer": "ipython3",
   "version": "3.5.6"
  }
 },
 "nbformat": 4,
 "nbformat_minor": 0
}

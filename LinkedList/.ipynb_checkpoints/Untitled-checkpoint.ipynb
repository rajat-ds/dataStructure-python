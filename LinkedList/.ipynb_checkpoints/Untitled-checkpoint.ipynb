{
 "cells": [
  {
   "cell_type": "code",
   "execution_count": 11,
   "metadata": {
    "collapsed": false
   },
   "outputs": [],
   "source": [
    "# Linked List and Node can be accomodated in separate classes for convenience\n",
    "class Node(object):\n",
    "    # Each node has its data and a pointer that points to next node in the Linked List\n",
    "    def __init__(self, data, next = None):\n",
    "        self.data = data;\n",
    "        self.next = next;\n",
    "        \n",
    "    # function to set data\n",
    "    def setData(self, data):\n",
    "        self.data = data;\n",
    "        \n",
    "    # function to get data of a particular node\n",
    "    def getData(self):\n",
    "        return self.data\n",
    "    \n",
    "    # function to set next node\n",
    "    def setNext(self, next):\n",
    "        self.next = next\n",
    "        \n",
    "    # function to get the next node\n",
    "    def getNext(self):\n",
    "        return self.next\n",
    "    \n",
    "class LinkedList(object):\n",
    "    # Defining the head of the linked list\n",
    "    def __init__(self):\n",
    "        self.head = None\n",
    "        \n",
    "    # printing the data in the linked list\n",
    "    def printLinkedList(self):\n",
    "        temp = self.head\n",
    "        while(temp):\n",
    "            print(temp.data, end=' ')\n",
    "            temp = temp.next\n",
    "            \n",
    "    # inserting the node at the beginning\n",
    "    def insertAtStart(self, data):\n",
    "        newNode = Node(data)\n",
    "        newNode.next = self.head\n",
    "        self.head = newNode\n",
    "        \n",
    "    # inserting the node in between the linked list (after a specific node)\n",
    "    def insertBetween(self, previousNode, data):\n",
    "        if (previousNode.next is None):\n",
    "            print('Previous node should have next node!')\n",
    "        else:\n",
    "            newNode = Node(data)\n",
    "            newNode.next = previousNode.next\n",
    "            previousNode.next = newNode\n",
    "            \n",
    "    # inserting at the end of linked list\n",
    "    def insertAtEnd(self, data):\n",
    "        newNode = Node(data)\n",
    "        temp = self.head\n",
    "        while(temp.next != None):         # get last node\n",
    "            temp = temp.next\n",
    "        temp.next = newNode\n",
    "        \n",
    "    # deleting an item based on data(or key)\n",
    "    def delete(self, data):\n",
    "        temp = self.head\n",
    "        # if data/key is found in head node itself\n",
    "        if (temp.next is not None):\n",
    "            if(temp.data == data):\n",
    "                self.head = temp.next\n",
    "                temp = None\n",
    "                return\n",
    "            else:\n",
    "                #  else search all the nodes\n",
    "                while(temp.next != None):\n",
    "                    if(temp.data == data):\n",
    "                        break\n",
    "                    prev = temp          #save current node as previous so that we can go on to next node\n",
    "                    temp = temp.next\n",
    "                \n",
    "                # node not found\n",
    "                if temp == None:\n",
    "                    return\n",
    "                \n",
    "                prev.next = temp.next\n",
    "                return\n",
    "            \n",
    "    # iterative search\n",
    "    def search(self, node, data):\n",
    "        if node == None:\n",
    "            return False\n",
    "        if node.data == data:\n",
    "            return True\n",
    "        return self.search(node.getNext(), data)\n",
    "            \n",
    "if __name__ == '__main__':\n",
    "    List = LinkedList()\n",
    "    for i in range(10,0,-1):\n",
    "        List.insertAtStart(i)"
   ]
  },
  {
   "cell_type": "code",
   "execution_count": 12,
   "metadata": {
    "collapsed": false
   },
   "outputs": [
    {
     "name": "stdout",
     "output_type": "stream",
     "text": [
      "before reversing\n",
      "1 2 3 4 5 6 7 8 9 10 "
     ]
    }
   ],
   "source": [
    "print(\"before reversing\")\n",
    "List.printLinkedList()\n",
    "    \n"
   ]
  },
  {
   "cell_type": "markdown",
   "metadata": {},
   "source": [
    "### LOGIC:\n",
    "\n",
    "* let your first node point to the none\n",
    "* after that start pointing node next pointer to previous node"
   ]
  },
  {
   "cell_type": "code",
   "execution_count": 13,
   "metadata": {
    "collapsed": true
   },
   "outputs": [],
   "source": [
    "def reverseLinkedList(myLinkedList):\n",
    "    previous = None\n",
    "    current = myLinkedList.head\n",
    "    while(current != None):\n",
    "        temp = current.next\n",
    "        current.next = previous\n",
    "        previous = current\n",
    "        current = temp\n",
    "    myLinkedList.head = previous"
   ]
  },
  {
   "cell_type": "code",
   "execution_count": 14,
   "metadata": {
    "collapsed": true
   },
   "outputs": [],
   "source": [
    "reverseLinkedList(List)"
   ]
  },
  {
   "cell_type": "code",
   "execution_count": 16,
   "metadata": {
    "collapsed": false
   },
   "outputs": [
    {
     "name": "stdout",
     "output_type": "stream",
     "text": [
      "after reversing the Linked List\n",
      "10 9 8 7 6 5 4 3 2 1 "
     ]
    }
   ],
   "source": [
    "print(\"after reversing the Linked List\")\n",
    "List.printLinkedList()"
   ]
  },
  {
   "cell_type": "markdown",
   "metadata": {},
   "source": [
    "### Check length of the linked List\n",
    "\n",
    "* intialise count as zero\n",
    "* start incrementing count till temp points to none"
   ]
  },
  {
   "cell_type": "code",
   "execution_count": 17,
   "metadata": {
    "collapsed": true
   },
   "outputs": [],
   "source": [
    "def checkLength(linkedList):\n",
    "    count = 0\n",
    "    temp = linkedList.head\n",
    "    while(temp != None):\n",
    "        count += 1\n",
    "        temp = temp.next\n",
    "\n",
    "    return count"
   ]
  },
  {
   "cell_type": "code",
   "execution_count": 19,
   "metadata": {
    "collapsed": false
   },
   "outputs": [
    {
     "name": "stdout",
     "output_type": "stream",
     "text": [
      "length of the linked list\n",
      "10\n"
     ]
    }
   ],
   "source": [
    "print(\"length of the linked list\")\n",
    "print( checkLength(List))"
   ]
  },
  {
   "cell_type": "code",
   "execution_count": null,
   "metadata": {
    "collapsed": true
   },
   "outputs": [],
   "source": []
  }
 ],
 "metadata": {
  "kernelspec": {
   "display_name": "Python [Anaconda3]",
   "language": "python",
   "name": "Python [Anaconda3]"
  },
  "language_info": {
   "codemirror_mode": {
    "name": "ipython",
    "version": 3
   },
   "file_extension": ".py",
   "mimetype": "text/x-python",
   "name": "python",
   "nbconvert_exporter": "python",
   "pygments_lexer": "ipython3",
   "version": "3.5.6"
  }
 },
 "nbformat": 4,
 "nbformat_minor": 0
}

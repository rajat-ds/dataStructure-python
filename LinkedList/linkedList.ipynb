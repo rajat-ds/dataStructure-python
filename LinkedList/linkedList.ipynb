{
 "cells": [
  {
   "cell_type": "markdown",
   "metadata": {},
   "source": [
    "## Linked Lists\n",
    "\n",
    "### Defination \n",
    "\n",
    "A linked List is a data structure used for storing collections of data. A linked list has the following properties.\n",
    "* Successive elements are connected by pointers\n",
    "* The last element points to NULL(None in Python)\n",
    "* Can grow or shrink in size during execution of a program\n",
    "* Can be made just as long as required (until systems memory exhausts)\n",
    "* Does not waste memory space (but takes some extra memory for pointers)\n",
    "\n",
    "### Properties of Linked Lists:\n",
    "\n",
    "* Linked lists are linear data structures that hold data in individual objects called nodes. These nodes hold both the data and a reference to the next node in the list.\n",
    "* Each node contains a value, and a reference (also known as a pointer) to the next node. The last node, points to a null node. This means the list is at its end.\n",
    "* Linked lists offer some important advantages over other linear data structures. Unlike arrays, they are a dynamic data structure, resizable at run-time. Also, the insertion and deletion operations are efficient and easily implemented.\n",
    "* However, linked lists do have some drawbacks. Unlike arrays, linked lists aren't fast at finding the nth item.To find a node at position n, you have to start the search at the first node in the linked list, following the path of references times. Also, because linked lists are inherently sequential in the forward direction, operations like backwards traversal--visiting every node starting from the end and ending in the front--is especially cumbersome. (Only sequential search possible) \n",
    "* Additionally, linked lists use more storage than the array due to their property of referencing the next node in the linked list.\n",
    "* Finally, unlike an array whose values are all stored in contiguous memory, a linked list's nodes are at arbitrary, possibly far apart locations in memory.\n",
    "\n",
    "### Common Operations:\n",
    "\n",
    "* Insert\n",
    "* Insert at end\n",
    "* Insert at beginning\n",
    "* Insert between\n",
    "* Delete\n",
    "* Search\n",
    "* Indexing\n",
    "\n",
    "### Time Complexity:\n",
    "* Insertion: O(1)\n",
    "    * Insertion at beginning (or front): O(1)\n",
    "    * Insertion in between: O(1)\n",
    "    * Insertion at End: O(n)\n",
    "* Deletion: O(1)\n",
    "* Indexing: O(n)\n",
    "* Searching: O(n)\n",
    "\n",
    "### Implementing Singly Linked List:"
   ]
  },
  {
   "cell_type": "code",
   "execution_count": null,
   "metadata": {
    "collapsed": true
   },
   "outputs": [],
   "source": []
  }
 ],
 "metadata": {},
 "nbformat": 4,
 "nbformat_minor": 0
}
